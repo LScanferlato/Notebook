{
 "cells": [
  {
   "cell_type": "code",
   "execution_count": null,
   "id": "a78a4a7f-f71b-46d6-99d7-71d8d9d8aa88",
   "metadata": {},
   "outputs": [],
   "source": [
    "!pip install geopy\n",
    "!pip install tzwhere\n",
    "!pip install skyfield\n",
    "!pip install timezonefinder"
   ]
  },
  {
   "cell_type": "code",
   "execution_count": null,
   "id": "f20f3b2f",
   "metadata": {},
   "outputs": [],
   "source": [
    "from datetime import datetime\n",
    "from geopy import Nominatim\n",
    "from tzwhere import tzwhere\n",
    "from pytz import timezone, utc\n",
    "\n",
    "import numpy as np\n",
    "import matplotlib.pyplot as plt\n",
    "from matplotlib.collections import LineCollection\n",
    "from matplotlib.patches import Circle\n",
    "from timezonefinder import TimezoneFinder\n",
    "\n",
    "from skyfield.api import Star, load, wgs84\n",
    "from skyfield.data import hipparcos\n",
    "from skyfield.projections import build_stereographic_projection"
   ]
  },
  {
   "cell_type": "code",
   "execution_count": null,
   "id": "71f76976",
   "metadata": {},
   "outputs": [],
   "source": [
    "# load celestial data\n",
    "\n",
    "# de421 shows position of earth and sun in space\n",
    "eph = load('de421.bsp')\n",
    "\n",
    "# hipparcos dataset contains star location data\n",
    "with load.open(hipparcos.URL) as f:\n",
    "    stars = hipparcos.load_dataframe(f)"
   ]
  },
  {
   "cell_type": "code",
   "execution_count": null,
   "id": "894ac20f",
   "metadata": {},
   "outputs": [],
   "source": [
    "location = 'Venice, Italy'\n",
    "when = '2025-03-25 12:00'"
   ]
  },
  {
   "cell_type": "code",
   "execution_count": null,
   "id": "2fe6a76c",
   "metadata": {},
   "outputs": [],
   "source": [
    "# get latitude and longitude of our location \n",
    "locator = Nominatim(user_agent='myGeocoder')\n",
    "location = locator.geocode(location)\n",
    "lat, long = location.latitude, location.longitude"
   ]
  },
  {
   "cell_type": "code",
   "execution_count": null,
   "id": "4303058b",
   "metadata": {},
   "outputs": [],
   "source": [
    "# convert date string into datetime object\n",
    "dt = datetime.strptime(when, '%Y-%m-%d %H:%M')\n",
    "\n",
    "# Define datetime and convert to UTC based on our timezone\n",
    "tf = TimezoneFinder()\n",
    "timezone_str = tf.timezone_at(lng=long, lat=lat)\n",
    "local = timezone(timezone_str)\n",
    "\n",
    "# get UTC from local timezone and datetime\n",
    "local_dt = local.localize(dt, is_dst=None)\n",
    "utc_dt = local_dt.astimezone(utc)"
   ]
  },
  {
   "cell_type": "code",
   "execution_count": null,
   "id": "109084ae-b50e-4b80-91e0-2327240c3828",
   "metadata": {},
   "outputs": [],
   "source": [
    "print(f\"Date string: {when}\")\n",
    "print(f\"Latitude: {lat}, Longitude: {long}\")\n",
    "print(f\"Timezone: {timezone_str}\")\n",
    "print(f\"Localized datetime: {local_dt}\")\n",
    "print(f\"UTC datetime: {utc_dt}\")"
   ]
  },
  {
   "cell_type": "code",
   "execution_count": null,
   "id": "043fa447",
   "metadata": {},
   "outputs": [],
   "source": [
    "# find location of earth and sun and set the observer position\n",
    "sun = eph['sun']\n",
    "earth = eph['earth']\n",
    "\n",
    "# define observation time from our UTC datetime\n",
    "ts = load.timescale()\n",
    "t = ts.from_datetime(utc_dt)\n",
    "\n",
    "# define an observer using the world geodetic system data\n",
    "observer = wgs84.latlon(latitude_degrees=lat, longitude_degrees=long).at(t)\n",
    "\n",
    "# define the position in the sky where we will be looking\n",
    "position = observer.from_altaz(alt_degrees=90, az_degrees=0)"
   ]
  },
  {
   "cell_type": "code",
   "execution_count": null,
   "id": "484bafe8",
   "metadata": {},
   "outputs": [],
   "source": [
    "# center the observation point in the middle of the sky\n",
    "ra, dec, distance = observer.radec()\n",
    "center_object = Star(ra=ra, dec=dec)\n",
    "\n",
    "# find where our center object is relative to earth and build a projection with 180 degree view\n",
    "center = earth.at(t).observe(center_object)\n",
    "projection = build_stereographic_projection(center)\n",
    "field_of_view_degrees = 180.0\n",
    "\n",
    "# calculate star positions and project them onto a plain space\n",
    "star_positions = earth.at(t).observe(Star.from_dataframe(stars))\n",
    "stars['x'], stars['y'] = projection(star_positions)"
   ]
  },
  {
   "cell_type": "markdown",
   "id": "0fb69b35",
   "metadata": {},
   "source": [
    "Let's assume that the size of our star represents it's relative magnitude.  \n",
    "\n",
    "Given $F_x$ - the observed irradiance using spectral filter x, and $F_{x,0}$ is the reference flux (zero-point) for that photometric filter, magnitude $m_x$ is \n",
    "\n",
    "\n",
    "$$ m_x = -2.5 \\cdot log_{10} \\big( \\frac{F_x}{F_{x,0}} \\big)  $$\n",
    "\n",
    "Let the size of our biggest star in our chart which represents the brightest star be $S_0$ and the size of any star $i$ be represented by $S_i$ and its apparent magnitude be represented by $m_i$. Then,\n",
    "\n",
    "$$ m_i = -2.5 \\cdot log_{10} \\big( \\frac{S_i}{S_0} \\big)  $$\n",
    "\n",
    "Solving for $S_i$,\n",
    "\n",
    "$$ S_i = S_0 \\cdot 10 ^{m_i/-2.5} $$"
   ]
  },
  {
   "cell_type": "code",
   "execution_count": null,
   "id": "16ab381b",
   "metadata": {},
   "outputs": [],
   "source": [
    "chart_size = 10\n",
    "max_star_size = 100\n",
    "limiting_magnitude = 10\n",
    "\n",
    "bright_stars = (stars.magnitude <= limiting_magnitude)\n",
    "magnitude = stars['magnitude'][bright_stars]"
   ]
  },
  {
   "cell_type": "code",
   "execution_count": null,
   "id": "e2130924",
   "metadata": {},
   "outputs": [],
   "source": [
    "fig, ax = plt.subplots(figsize=(chart_size, chart_size))\n",
    "    \n",
    "border = plt.Circle((0, 0), 1, color='navy', fill=True)\n",
    "ax.add_patch(border)\n",
    "\n",
    "marker_size = max_star_size * 10 ** (magnitude / -2.5)\n",
    "\n",
    "ax.scatter(stars['x'][bright_stars], stars['y'][bright_stars],\n",
    "           s=marker_size, color='white', marker='.', linewidths=0, \n",
    "           zorder=2)\n",
    "\n",
    "horizon = Circle((0, 0), radius=1, transform=ax.transData)\n",
    "for col in ax.collections:\n",
    "    col.set_clip_path(horizon)\n",
    "\n",
    "\n",
    "# other settings\n",
    "ax.set_xlim(-1, 1)\n",
    "ax.set_ylim(-1, 1)\n",
    "plt.axis('off')\n",
    "\n",
    "plt.show()"
   ]
  },
  {
   "cell_type": "code",
   "execution_count": null,
   "id": "ca3b9044-ecbf-4226-bd45-aec3efa2f120",
   "metadata": {},
   "outputs": [],
   "source": []
  }
 ],
 "metadata": {
  "kernelspec": {
   "display_name": "Python 3 (ipykernel)",
   "language": "python",
   "name": "python3"
  },
  "language_info": {
   "codemirror_mode": {
    "name": "ipython",
    "version": 3
   },
   "file_extension": ".py",
   "mimetype": "text/x-python",
   "name": "python",
   "nbconvert_exporter": "python",
   "pygments_lexer": "ipython3",
   "version": "3.12.9"
  }
 },
 "nbformat": 4,
 "nbformat_minor": 5
}
